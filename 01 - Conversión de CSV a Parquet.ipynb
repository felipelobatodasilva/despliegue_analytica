{
 "cells": [
  {
   "cell_type": "code",
   "execution_count": 3,
   "metadata": {},
   "outputs": [],
   "source": [
    "# Importa la biblioteca pandas para la manipulación de datos en formato tabular\n",
    "import pandas as pd\n",
    "# Importa la biblioteca os para interactuar con el sistema operativo\n",
    "import os\n",
    "# Importa SparkSession de PySpark para iniciar una sesión de Spark\n",
    "from pyspark.sql import SparkSession\n",
    "# Importa funciones\n",
    "from pyspark.sql.functions import lpad"
   ]
  },
  {
   "cell_type": "code",
   "execution_count": 4,
   "metadata": {},
   "outputs": [
    {
     "name": "stderr",
     "output_type": "stream",
     "text": [
      "24/10/22 00:20:36 WARN Utils: Your hostname, felipe-Nitro-AN515-44 resolves to a loopback address: 127.0.1.1; using 192.168.15.10 instead (on interface wlp5s0)\n",
      "24/10/22 00:20:36 WARN Utils: Set SPARK_LOCAL_IP if you need to bind to another address\n",
      "Setting default log level to \"WARN\".\n",
      "To adjust logging level use sc.setLogLevel(newLevel). For SparkR, use setLogLevel(newLevel).\n",
      "24/10/22 00:20:37 WARN NativeCodeLoader: Unable to load native-hadoop library for your platform... using builtin-java classes where applicable\n",
      "24/10/22 00:20:38 WARN Utils: Service 'SparkUI' could not bind on port 4040. Attempting port 4041.\n"
     ]
    }
   ],
   "source": [
    "# Crea una sesión de Spark con el nombre de la aplicación \"Conversion_from_CSV_to_Parquet\", habilitando el soporte para Hive, y la inicializa o reutiliza si ya existe\n",
    "spark = SparkSession \\\n",
    "    .builder \\\n",
    "    .appName(\"Conversión de CSV a Parquet\") \\\n",
    "    .enableHiveSupport() \\\n",
    "    .getOrCreate()"
   ]
  },
  {
   "cell_type": "code",
   "execution_count": null,
   "metadata": {},
   "outputs": [],
   "source": [
    "# Inicia una sesión de Spark con el nombre de la aplicación \"CSV to Parquet\"\n",
    "spark = SparkSession.builder.appName(\"CSV to Parquet\").getOrCreate()\n",
    "\n",
    "# Define la ruta donde se encuentran los archivos CSV\n",
    "landing_zone = '/home/felipe/despliegue_analytica/files_csv/'\n",
    "\n",
    "# Lista todos los archivos en el directorio especificado\n",
    "files = os.listdir(landing_zone)\n",
    "\n",
    "# Bucle para transformar todos los archivos CSV en formato Parquet\n",
    "for filename in files:\n",
    "    if filename.endswith('.csv'):\n",
    "        # Lee el archivo CSV con la configuración de encabezados, detección automática de esquema y separador de comas\n",
    "        csv = spark.read.csv(f'{landing_zone}/{filename}', header=True, inferSchema=True, sep=',')\n",
    "\n",
    "        # Añade ceros a la izquierda para los prefijos de código postal en ciertos archivos específicos\n",
    "        if filename == 'olist_customers_dataset.csv':\n",
    "            csv = csv.withColumn('customer_zip_code_prefix', lpad(csv.customer_zip_code_prefix, 5, '0'))\n",
    "        elif filename == 'olist_sellers_dataset.csv':\n",
    "            csv = csv.withColumn('seller_zip_code_prefix', lpad(csv.seller_zip_code_prefix, 5, '0'))\n",
    "        elif filename == 'olist_geolocation_dataset.csv':\n",
    "            csv = csv.withColumn('geolocation_zip_code_prefix', lpad(csv.geolocation_zip_code_prefix, 5, '0'))\n",
    "\n",
    "        # Modifica el nombre del archivo para que tenga la extensión .parquet\n",
    "        parquet_name = filename.replace('csv', 'parquet')\n",
    "\n",
    "        # Guarda el archivo en formato Parquet en la carpeta \"files_parquet\"\n",
    "        csv.write.parquet(f'/home/felipe/despliegue_analytica/files_parquet/{parquet_name}', mode='overwrite')\n",
    "\n",
    "# Imprime un mensaje indicando que los archivos CSV se han convertido y guardado como Parquet en la carpeta \"olist\"\n",
    "print(\"Arquivos CSV convertidos para Parquet e salvos em /olist/\")"
   ]
  }
 ],
 "metadata": {
  "kernelspec": {
   "display_name": "Python 3",
   "language": "python",
   "name": "python3"
  },
  "language_info": {
   "codemirror_mode": {
    "name": "ipython",
    "version": 3
   },
   "file_extension": ".py",
   "mimetype": "text/x-python",
   "name": "python",
   "nbconvert_exporter": "python",
   "pygments_lexer": "ipython3",
   "version": "3.10.10"
  }
 },
 "nbformat": 4,
 "nbformat_minor": 2
}
