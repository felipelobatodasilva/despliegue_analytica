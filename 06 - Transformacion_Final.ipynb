{
 "cells": [
  {
   "cell_type": "code",
   "execution_count": 1,
   "metadata": {},
   "outputs": [
    {
     "ename": "ModuleNotFoundError",
     "evalue": "No module named 'matplotlib'",
     "output_type": "error",
     "traceback": [
      "\u001b[0;31m---------------------------------------------------------------------------\u001b[0m",
      "\u001b[0;31mModuleNotFoundError\u001b[0m                       Traceback (most recent call last)",
      "Cell \u001b[0;32mIn[1], line 1\u001b[0m\n\u001b[0;32m----> 1\u001b[0m \u001b[38;5;28;01mimport\u001b[39;00m \u001b[38;5;21;01mmatplotlib\u001b[39;00m\u001b[38;5;21;01m.\u001b[39;00m\u001b[38;5;21;01mpyplot\u001b[39;00m \u001b[38;5;28;01mas\u001b[39;00m \u001b[38;5;21;01mplt\u001b[39;00m\n\u001b[1;32m      2\u001b[0m \u001b[38;5;28;01mimport\u001b[39;00m \u001b[38;5;21;01mmatplotlib\u001b[39;00m\u001b[38;5;21;01m.\u001b[39;00m\u001b[38;5;21;01mticker\u001b[39;00m \u001b[38;5;28;01mas\u001b[39;00m \u001b[38;5;21;01mmticker\u001b[39;00m\n\u001b[1;32m      3\u001b[0m \u001b[38;5;28;01mimport\u001b[39;00m \u001b[38;5;21;01mos\u001b[39;00m\n",
      "\u001b[0;31mModuleNotFoundError\u001b[0m: No module named 'matplotlib'"
     ]
    }
   ],
   "source": [
    "import matplotlib.pyplot as plt\n",
    "import matplotlib.ticker as mticker\n",
    "import os\n",
    "import pandas as pd\n",
    "import seaborn as sns\n",
    "import warnings\n",
    "from pyspark.sql import SparkSession\n",
    "from pyspark.sql.functions import *\n",
    "warnings.filterwarnings(\"ignore\", category=FutureWarning)\n",
    "\n",
    "# Inicializando la sesión Spark\n",
    "spark = SparkSession.builder.appName(\"AnalisisCompletoDeDatos\").getOrCreate()\n",
    "\n",
    "# Ruta de la carpeta con los archivos Parquet\n",
    "ruta = \"/Users/felipediegolobatodasilva/Documents/Git/despliegue_analytica/files_parquet/\"\n",
    "\n",
    "# Listar todos los archivos Parquet en la carpeta\n",
    "archivos_parquet = [f\"{ruta}{f}\" for f in os.listdir(ruta) if f.endswith('.parquet')]"
   ]
  },
  {
   "cell_type": "code",
   "execution_count": null,
   "metadata": {},
   "outputs": [
    {
     "ename": "",
     "evalue": "",
     "output_type": "error",
     "traceback": [
      "\u001b[1;31mRunning cells with 'Python 3.13.0' requires the ipykernel package.\n",
      "\u001b[1;31mRun the following command to install 'ipykernel' into the Python environment. \n",
      "\u001b[1;31mCommand: '/opt/homebrew/bin/python3 -m pip install ipykernel -U --user --force-reinstall'"
     ]
    }
   ],
   "source": [
    "# Cargar el DataFrame en pysapark\n",
    "df_base_spark = spark.read.parquet('/Users/felipediegolobatodasilva/Desktop/git/despliegue_analytica/files_parquet/df_joined_cleaned_no_nulls.parquet')\n",
    "\n",
    "# Diccionario para renombrar las columnas al español\n",
    "nombres_columnas_espanol = {\n",
    "    'order_id': 'id_pedido',\n",
    "    'seller_id': 'id_vendedor',\n",
    "    'product_id': 'id_producto',\n",
    "    'customer_id': 'id_cliente',\n",
    "    'order_status': 'estado_pedido',\n",
    "    'order_purchase_timestamp': 'fecha_compra_pedido',\n",
    "    'order_approved_at': 'fecha_aprobacion_pedido',\n",
    "    'order_estimated_delivery_date': 'fecha_entrega_estimada',\n",
    "    'order_item_id': 'id_item_pedido',\n",
    "    'shipping_limit_date': 'fecha_limite_envio',\n",
    "    'price': 'precio',\n",
    "    'freight_value': 'valor_flete',\n",
    "    'payment_sequential': 'secuencia_pago',\n",
    "    'payment_type': 'tipo_pago',\n",
    "    'payment_installments': 'cuotas_pago',\n",
    "    'payment_value': 'valor_pago',\n",
    "    'customer_unique_id': 'id_unico_cliente',\n",
    "    'customer_zip_code_prefix': 'codigo_postal_cliente',\n",
    "    'customer_city': 'ciudad_cliente',\n",
    "    'customer_state': 'estado_cliente',\n",
    "    'product_category_name': 'nombre_categoria_producto',\n",
    "    'product_name_lenght': 'longitud_nombre_producto',\n",
    "    'product_description_lenght': 'longitud_descripcion_producto',\n",
    "    'product_photos_qty': 'cantidad_fotos_producto',\n",
    "    'product_weight_g': 'peso_producto_g',\n",
    "    'product_length_cm': 'largo_producto_cm',\n",
    "    'product_height_cm': 'altura_producto_cm',\n",
    "    'product_width_cm': 'ancho_producto_cm',\n",
    "    'seller_zip_code_prefix': 'codigo_postal_vendedor',\n",
    "    'seller_city': 'ciudad_vendedor',\n",
    "    'seller_state': 'estado_vendedor'\n",
    "}\n",
    "\n",
    "# Renombrar las columnas en el DataFrame de PySpark\n",
    "for old_name, new_name in nombres_columnas_espanol.items():\n",
    "    df_base_spark = df_base_spark.withColumnRenamed(old_name, new_name)\n",
    "\n",
    "# Mostrar las columnas renombradas y la cantidad de registros\n",
    "print(\"Columnas de df_base_spark:\", df_base_spark.columns)\n",
    "print(\"\\nCantidad de registros de df_base_spark:\", df_base_spark.count())"
   ]
  },
  {
   "cell_type": "code",
   "execution_count": 2,
   "metadata": {},
   "outputs": [
    {
     "ename": "NameError",
     "evalue": "name 'opt' is not defined",
     "output_type": "error",
     "traceback": [
      "\u001b[0;31m---------------------------------------------------------------------------\u001b[0m",
      "\u001b[0;31mNameError\u001b[0m                                 Traceback (most recent call last)",
      "Cell \u001b[0;32mIn[2], line 1\u001b[0m\n\u001b[0;32m----> 1\u001b[0m \u001b[43mopt\u001b[49m\u001b[38;5;241m/\u001b[39mhomebrew\u001b[38;5;241m/\u001b[39m\u001b[38;5;28mbin\u001b[39m\u001b[38;5;241m/\u001b[39mpython3(\u001b[38;5;241m-\u001b[39mm, pip, install, ipykernel, \u001b[38;5;241m-\u001b[39mU, \u001b[38;5;241m-\u001b[39m\u001b[38;5;241m-\u001b[39muser, \u001b[38;5;241m-\u001b[39m\u001b[38;5;241m-\u001b[39mforce\u001b[38;5;241m-\u001b[39mreinstall)\n",
      "\u001b[0;31mNameError\u001b[0m: name 'opt' is not defined"
     ]
    }
   ],
   "source": [
    "/opt/homebrew/bin/python3 -m pip install ipykernel -U --user --force-reinstall\n"
   ]
  },
  {
   "cell_type": "code",
   "execution_count": 32,
   "metadata": {},
   "outputs": [
    {
     "data": {
      "image/png": "[encoded data removed]",
      "text/plain": [
       "<Figure size 1000x600 with 1 Axes>"
      ]
     },
     "metadata": {},
     "output_type": "display_data"
    }
   ],
   "source": [
    "#Separemos la fecha y hora del campo fecha_compra_pedido\n",
    "# Crear columna solo con la fecha\n",
    "df_base['fecha_pedido'] = df_base['fecha_compra_pedido'].dt.date\n",
    "\n",
    "# Crear columna solo con la hora\n",
    "df_base['hora_compra_pedido'] = df_base['fecha_compra_pedido'].dt.time\n",
    "\n",
    "#Revisemos la cantidad de registros por fecha en que se realizo la compra\n",
    "# Extrae solo el año de la fecha\n",
    "df_base['anio_compra_pedido'] = df_base['fecha_compra_pedido'].dt.year\n",
    "\n",
    "# Agrupa por año y cuenta el número de ocurrencias\n",
    "anio_counts = df_base['anio_compra_pedido'].value_counts().sort_index()\n",
    "\n",
    "# Crear gráfico de barras\n",
    "plt.figure(figsize=(10, 6))\n",
    "anio_counts.plot(kind='bar', color='skyblue')\n",
    "\n",
    "# Añadir título y etiquetas\n",
    "plt.title('Número de Compras por Año', fontsize=14)\n",
    "plt.xlabel('Año', fontsize=12)\n",
    "plt.ylabel('Número de Compras', fontsize=12)\n",
    "plt.xticks(rotation=0)\n",
    "plt.tight_layout()\n",
    "\n",
    "# Mostrar gráfico\n",
    "plt.show()"
   ]
  },
  {
   "cell_type": "code",
   "execution_count": 33,
   "metadata": {},
   "outputs": [],
   "source": [
    "#Creando el campo temporada\n",
    "# Extraer el mes\n",
    "df_base['month'] = df_base['fecha_compra_pedido'].dt.month\n",
    "\n",
    "# Función para asignar la temporada\n",
    "def assign_season(month):\n",
    "    if month in [12, 1, 2]:\n",
    "        return 'Invierno'\n",
    "    elif month in [3, 4, 5]:\n",
    "        return 'Primavera'\n",
    "    elif month in [6, 7, 8]:\n",
    "        return 'Verano'\n",
    "    else:\n",
    "        return 'Otoño'\n",
    "\n",
    "# Aplicar la función para crear la columna de temporada\n",
    "df_base['temporada'] = df_base['month'].apply(assign_season)"
   ]
  },
  {
   "cell_type": "code",
   "execution_count": 34,
   "metadata": {},
   "outputs": [
    {
     "data": {
      "text/plain": [
       "(63219, 33)"
      ]
     },
     "execution_count": 34,
     "metadata": {},
     "output_type": "execute_result"
    }
   ],
   "source": [
    "#para el ejercicio del proyecto solo seleccionaremos los campos del año 2018\n",
    "df_baseFinal=df_base[df_base['anio_compra_pedido']>=2018]\n",
    "columnas2=['id_pedido', 'id_vendedor', 'id_producto', 'id_cliente',\n",
    "       'estado_pedido', 'fecha_pedido','hora_compra_pedido', 'fecha_aprobacion_pedido',\n",
    "       'fecha_entrega_estimada', 'id_item_pedido', 'fecha_limite_envio',\n",
    "       'precio', 'valor_flete', 'secuencia_pago', 'tipo_pago', 'cuotas_pago',\n",
    "       'valor_pago', 'id_unico_cliente', 'codigo_postal_cliente',\n",
    "       'ciudad_cliente', 'estado_cliente', 'nombre_categoria_producto',\n",
    "       'longitud_nombre_producto', 'longitud_descripcion_producto',\n",
    "       'cantidad_fotos_producto', 'peso_producto_g', 'largo_producto_cm',\n",
    "       'altura_producto_cm', 'ancho_producto_cm', 'codigo_postal_vendedor',\n",
    "       'ciudad_vendedor', 'estado_vendedor','temporada']\n",
    "df_baseFinal=df_baseFinal[columnas2]\n",
    "df_baseFinal.shape"
   ]
  },
  {
   "cell_type": "code",
   "execution_count": 36,
   "metadata": {},
   "outputs": [],
   "source": [
    "#Guardemos el archivo final en dvc\n",
    "df_baseFinal.to_parquet('files_parquet/df_baseFinal.parquet', engine='pyarrow')"
   ]
  }
 ],
 "metadata": {
  "kernelspec": {
   "display_name": ".venv",
   "language": "python",
   "name": "python3"
  },
  "language_info": {
   "codemirror_mode": {
    "name": "ipython",
    "version": 3
   },
   "file_extension": ".py",
   "mimetype": "text/x-python",
   "name": "python",
   "nbconvert_exporter": "python",
   "pygments_lexer": "ipython3",
   "version": "3.12.7"
  }
 },
 "nbformat": 4,
 "nbformat_minor": 2
}
