{
 "cells": [
  {
   "cell_type": "code",
   "execution_count": 1,
   "metadata": {},
   "outputs": [],
   "source": [
    "# Importar Bibliotecas\n",
    "import pandas as pd\n",
    "import os\n",
    "from pyspark.sql import SparkSession\n",
    "from pyspark.sql.functions import substring, col\n"
   ]
  },
  {
   "cell_type": "code",
   "execution_count": null,
   "metadata": {},
   "outputs": [],
   "source": [
    "\"\"\"Crea una sesión de Spark con el nombre de la aplicación \"Transformación de Datos y Unión de Geolocalización\", \n",
    "habilitando el soporte para Hive, y la inicializa o reutiliza si ya existe\"\"\"\n",
    "spark = SparkSession \\\n",
    "    .builder \\\n",
    "    .appName(\"Transformación de Datos y Unión de Geolocalización\") \\\n",
    "    .enableHiveSupport() \\\n",
    "    .getOrCreate()"
   ]
  },
  {
   "cell_type": "code",
   "execution_count": null,
   "metadata": {},
   "outputs": [],
   "source": [
    "# Leer varios archivos Parquet para crear DataFrames\n",
    "geo = spark.read.parquet('/home/felipe/despliegue_analytica/files_parquet/olist_geolocation_dataset.parquet')\n",
    "zip_code = spark.read.parquet('/home/felipe/despliegue_analytica/files_parquet/log.parquet')"
   ]
  },
  {
   "cell_type": "code",
   "execution_count": null,
   "metadata": {},
   "outputs": [],
   "source": [
    "# Crear una nueva columna llamada 'cep_prefix' que contiene los primeros 5 dígitos del campo 'cep'\n",
    "zip_code = zip_code.withColumn(\"cep_prefix\", substring(col(\"cep\"), 1, 5))\n",
    "# Cambiar el nombre de la columna 'geolocation_zip_code_prefix' a 'cep_prefix'\n",
    "geo = geo.withColumnRenamed(\"geolocation_zip_code_prefix\", \"cep_prefix\")\n",
    "# Realizar un join entre los DataFrames 'geo' y 'zip_code' utilizando 'cep_prefix' como clave de unión\n",
    "joined_df = geo.join(zip_code, \"cep_prefix\", \"inner\")\n",
    "# Seleccionar y renombrar columnas para crear un nuevo DataFrame 'result_df'\n",
    "result_df = joined_df.select(\"cep\", \"geolocation_city\", \"geolocation_state\") \\\n",
    "                     .withColumn(\"cep_5_digitos\", substring(col(\"cep\"), 1, 5))\n",
    "# Mostrar el resultado final sin truncar los valores\n",
    "result_df.show(truncate=False)"
   ]
  },
  {
   "cell_type": "code",
   "execution_count": null,
   "metadata": {},
   "outputs": [],
   "source": [
    "# Modificar los nombres de las columnas en 'result_df' y crear un DataFrame final llamado 'result_df_final'\n",
    "result_df_final = result_df.withColumnRenamed(\"logradouro\", \"street\") \\\n",
    "                   .withColumnRenamed(\"geolocation_city\", \"city\") \\\n",
    "                   .withColumnRenamed(\"geolocation_state\", \"uf\") \\\n",
    "                   .withColumnRenamed(\"cep_5_digitos\", \"cep_prefix\")"
   ]
  },
  {
   "cell_type": "code",
   "execution_count": null,
   "metadata": {},
   "outputs": [],
   "source": [
    "# Guarda el archivo en formato Parquet en la carpeta \"files_parquet\"\n",
    "result_df_final.write.mode('overwrite').parquet('/home/felipe/despliegue_analytica/files_parquet/geolocation_correios.parquet')"
   ]
  }
 ],
 "metadata": {
  "kernelspec": {
   "display_name": "Python 3",
   "language": "python",
   "name": "python3"
  },
  "language_info": {
   "codemirror_mode": {
    "name": "ipython",
    "version": 3
   },
   "file_extension": ".py",
   "mimetype": "text/x-python",
   "name": "python",
   "nbconvert_exporter": "python",
   "pygments_lexer": "ipython3",
   "version": "3.10.10"
  }
 },
 "nbformat": 4,
 "nbformat_minor": 2
}
