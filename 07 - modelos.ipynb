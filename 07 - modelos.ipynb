{
 "cells": [
  {
   "cell_type": "code",
   "execution_count": null,
   "metadata": {},
   "outputs": [],
   "source": [
    "df = pd.read_parquet('files_parquet/df_baseFinal.parquet', engine='pyarrow')\n",
    "df[['temporada', 'nombre_categoria_producto', 'peso_producto_g', \n",
    "            'largo_producto_cm', 'altura_producto_cm', 'ancho_producto_cm', \n",
    "            'ciudad_cliente', 'estado_cliente',\"id_producto\"]]\n"
   ]
  },
  {
   "cell_type": "code",
   "execution_count": 27,
   "metadata": {},
   "outputs": [
    {
     "name": "stdout",
     "output_type": "stream",
     "text": [
      "Fitting 5 folds for each of 2187 candidates, totalling 10935 fits\n",
      "Best parameters found: {'regressor__colsample_bytree': 0.8, 'regressor__gamma': 0.1, 'regressor__learning_rate': 0.1, 'regressor__max_depth': 9, 'regressor__n_estimators': 300, 'regressor__reg_alpha': 0.01, 'regressor__subsample': 0.8}\n",
      "Root Mean Squared Error (RMSE): 132.66767307696477\n",
      "Mean Absolute Error: 54.75543147112138\n",
      "R²: 0.5368597466258211\n",
      "Cross-validated RMSE: 127.5621907889221\n",
      "Predicted Seasonal Price: 61.67259979248047\n"
     ]
    }
   ],
   "source": [
    "import pandas as pd\n",
    "import numpy as np\n",
    "from sklearn.model_selection import train_test_split, GridSearchCV, cross_val_score\n",
    "from sklearn.preprocessing import StandardScaler, OneHotEncoder\n",
    "from sklearn.compose import ColumnTransformer\n",
    "from sklearn.pipeline import Pipeline\n",
    "from xgboost import XGBRegressor\n",
    "from sklearn.metrics import mean_squared_error, r2_score, mean_absolute_error\n",
    "\n",
    "# Cargar la base de datos ya filtrada para el año 2018\n",
    "df = pd.read_parquet('files_parquet/df_baseFinal.parquet', engine='pyarrow')\n",
    "\n",
    "# Selección de características relevantes para la predicción\n",
    "features = ['temporada', 'nombre_categoria_producto', 'peso_producto_g', \n",
    "            'largo_producto_cm', 'altura_producto_cm', 'ancho_producto_cm', \n",
    "            'ciudad_cliente', 'estado_cliente', \"id_producto\"]\n",
    "target = 'precio'\n",
    "\n",
    "# Preparar datos\n",
    "X = df[features]\n",
    "y = df[target]\n",
    "\n",
    "# Preprocesamiento de datos\n",
    "numerical_features = ['peso_producto_g', 'largo_producto_cm', 'altura_producto_cm', 'ancho_producto_cm']\n",
    "categorical_features = ['temporada', 'nombre_categoria_producto', 'ciudad_cliente', 'estado_cliente', \"id_producto\"]\n",
    "\n",
    "# Transformaciones\n",
    "preprocessor = ColumnTransformer(\n",
    "    transformers=[\n",
    "        ('num', StandardScaler(), numerical_features),\n",
    "        ('cat', OneHotEncoder(handle_unknown='ignore'), categorical_features)\n",
    "    ])\n",
    "\n",
    "# Construcción del modelo con pipeline\n",
    "model = Pipeline(steps=[\n",
    "    ('preprocessor', preprocessor),\n",
    "    ('regressor', XGBRegressor(random_state=42))\n",
    "])\n",
    "\n",
    "# División de los datos en conjuntos de entrenamiento y prueba\n",
    "X_train, X_test, y_train, y_test = train_test_split(X, y, test_size=0.2, random_state=42)\n",
    "\n",
    "# Definir parámetros para la búsqueda de hiperparámetros con GridSearchCV\n",
    "param_grid = {\n",
    "    'regressor__n_estimators': [100, 200, 300],\n",
    "    'regressor__learning_rate': [0.01, 0.05, 0.1],\n",
    "    'regressor__max_depth': [3, 6, 9],\n",
    "    'regressor__subsample': [0.7, 0.8, 0.9],\n",
    "    'regressor__colsample_bytree': [0.7, 0.8, 0.9],\n",
    "    'regressor__gamma': [0, 0.1, 0.2],\n",
    "    'regressor__reg_alpha': [0, 0.01, 0.1]\n",
    "}\n",
    "\n",
    "# Búsqueda de hiperparámetros con validación cruzada\n",
    "grid_search = GridSearchCV(model, param_grid, cv=5, n_jobs=-1, verbose=2, scoring='neg_mean_squared_error')\n",
    "\n",
    "# Entrenamiento del modelo con GridSearchCV\n",
    "grid_search.fit(X_train, y_train)\n",
    "\n",
    "# Mejor modelo y sus parámetros\n",
    "best_model = grid_search.best_estimator_\n",
    "print(f\"Best parameters found: {grid_search.best_params_}\")\n",
    "\n",
    "# Predicción con el mejor modelo\n",
    "y_pred = best_model.predict(X_test)\n",
    "\n",
    "# Calcular MSE (Mean Squared Error)\n",
    "mse = mean_squared_error(y_test, y_pred)\n",
    "\n",
    "# Calcular RMSE (Root Mean Squared Error)\n",
    "rmse = np.sqrt(mse)\n",
    "print(f\"Root Mean Squared Error (RMSE): {rmse}\")\n",
    "\n",
    "mae = mean_absolute_error(y_test, y_pred)\n",
    "print(f\"Mean Absolute Error: {mae}\")\n",
    "\n",
    "# Calcular R² (Coeficiente de Determinación)\n",
    "r2 = r2_score(y_test, y_pred)\n",
    "print(f\"R²: {r2}\")\n",
    "\n",
    "# Evaluación con validación cruzada\n",
    "cross_val_rmse = np.sqrt(-cross_val_score(best_model, X, y, cv=5, scoring='neg_mean_squared_error').mean())\n",
    "print(f\"Cross-validated RMSE: {cross_val_rmse}\")\n",
    "\n",
    "# Ejemplo de predicción para un nuevo dato (modifica los valores según sea necesario)\n",
    "new_data = pd.DataFrame({\n",
    "    'temporada': ['Invierno'],\n",
    "    'nombre_categoria_producto': ['cama_mesa_banho'],\n",
    "    'id_producto': ['364e789259da982f5b7e43aaea7be61'],\n",
    "    'peso_producto_g': [750],\n",
    "    'largo_producto_cm': [16],\n",
    "    'altura_producto_cm': [10],\n",
    "    'ancho_producto_cm': [16],\n",
    "    'ciudad_cliente': ['sao_paulo'],\n",
    "    'estado_cliente': ['SP']\n",
    "})\n",
    "predicted_price = best_model.predict(new_data)\n",
    "print(f\"Predicted Seasonal Price: {predicted_price[0]}\")\n",
    "\n"
   ]
  },
  {
   "cell_type": "code",
   "execution_count": null,
   "metadata": {},
   "outputs": [],
   "source": [
    "123"
   ]
  },
  {
   "cell_type": "markdown",
   "metadata": {},
   "source": [
    "###"
   ]
  }
 ],
 "metadata": {
  "kernelspec": {
   "display_name": "Python 3",
   "language": "python",
   "name": "python3"
  },
  "language_info": {
   "codemirror_mode": {
    "name": "ipython",
    "version": 3
   },
   "file_extension": ".py",
   "mimetype": "text/x-python",
   "name": "python",
   "nbconvert_exporter": "python",
   "pygments_lexer": "ipython3",
   "version": "3.12.3"
  }
 },
 "nbformat": 4,
 "nbformat_minor": 2
}
